{
 "cells": [
  {
   "cell_type": "code",
   "execution_count": 1,
   "metadata": {
    "collapsed": true
   },
   "outputs": [],
   "source": [
    "import scipy.special as spc"
   ]
  },
  {
   "cell_type": "code",
   "execution_count": 2,
   "metadata": {},
   "outputs": [
    {
     "data": {
      "text/plain": [
       "-0.17759677131433838"
      ]
     },
     "execution_count": 2,
     "metadata": {},
     "output_type": "execute_result"
    }
   ],
   "source": [
    "spc.jv(0,5)"
   ]
  },
  {
   "cell_type": "code",
   "execution_count": 3,
   "metadata": {},
   "outputs": [
    {
     "data": {
      "text/plain": [
       "0.15064525725099703"
      ]
     },
     "execution_count": 3,
     "metadata": {},
     "output_type": "execute_result"
    }
   ],
   "source": [
    "spc.jv(0,6)"
   ]
  },
  {
   "cell_type": "code",
   "execution_count": 4,
   "metadata": {},
   "outputs": [
    {
     "data": {
      "text/plain": [
       "0.30007927051955563"
      ]
     },
     "execution_count": 4,
     "metadata": {},
     "output_type": "execute_result"
    }
   ],
   "source": [
    "spc.jv(0,7)"
   ]
  },
  {
   "cell_type": "code",
   "execution_count": 5,
   "metadata": {},
   "outputs": [
    {
     "name": "stdout",
     "output_type": "stream",
     "text": [
      "[NbConvertApp] WARNING | pattern 'bessel.ipynb' matched no files\r\nThis application is used to convert notebook files (*.ipynb) to various other\r\nformats.\r\n\r\nWARNING: THE COMMANDLINE INTERFACE MAY CHANGE IN FUTURE RELEASES.\r\n\r\nOptions\r\n-------\r\n\r\nArguments that take values are actually convenience aliases to full\r\nConfigurables, whose aliases are listed on the help line. For more information\r\non full configurables, see '--help-all'.\r\n\r\n--debug\r\n    set log level to logging.DEBUG (maximize logging output)\r\n--generate-config\r\n    generate default config file\r\n-y\r\n    Answer yes to any questions instead of prompting.\r\n--execute\r\n    Execute the notebook prior to export.\r\n--allow-errors\r\n    Continue notebook execution even if one of the cells throws an error and include the error message in the cell output (the default behaviour is to abort conversion). This flag is only relevant if '--execute' was specified, too.\r\n--stdin\r\n    read a single notebook file from stdin. Write the resulting notebook with default basename 'notebook.*'\r\n--stdout\r\n    Write notebook output to stdout instead of files.\r\n--inplace\r\n    Run nbconvert in place, overwriting the existing notebook (only \r\n    relevant when converting to notebook format)\r\n--clear-output\r\n    Clear output of current file and save in place, \r\n    overwriting the existing notebook.\r\n--no-prompt\r\n    Exclude input and output prompts from converted document.\r\n--log-level=<Enum> (Application.log_level)\r\n    Default: 30\r\n    Choices: (0, 10, 20, 30, 40, 50, 'DEBUG', 'INFO', 'WARN', 'ERROR', 'CRITICAL')\r\n    Set the log level by value or name.\r\n--config=<Unicode> (JupyterApp.config_file)\r\n    Default: ''\r\n    Full path of a config file.\r\n--to=<Unicode> (NbConvertApp.export_format)\r\n    Default: 'html'\r\n    The export format to be used, either one of the built-in formats, or a\r\n    dotted object name that represents the import path for an `Exporter` class\r\n--template=<Unicode> (TemplateExporter.template_file)\r\n    Default: ''\r\n    Name of the template file to use\r\n--writer=<DottedObjectName> (NbConvertApp.writer_class)\r\n    Default: 'FilesWriter'\r\n    Writer class used to write the  results of the conversion\r\n--post=<DottedOrNone> (NbConvertApp.postprocessor_class)\r\n    Default: ''\r\n    PostProcessor class used to write the results of the conversion\r\n--output=<Unicode> (NbConvertApp.output_base)\r\n    Default: ''\r\n    overwrite base name use for output files. can only be used when converting\r\n    one notebook at a time.\r\n--output-dir=<Unicode> (FilesWriter.build_directory)\r\n    Default: ''\r\n    Directory to write output(s) to. Defaults to output to the directory of each\r\n    notebook. To recover previous default behaviour (outputting to the current\r\n    working directory) use . as the flag value.\r\n--reveal-prefix=<Unicode> (SlidesExporter.reveal_url_prefix)\r\n    Default: ''\r\n    The URL prefix for reveal.js. This can be a a relative URL for a local copy\r\n    of reveal.js, or point to a CDN.\r\n    For speaker notes to work, a local reveal.js prefix must be used.\r\n--nbformat=<Enum> (NotebookExporter.nbformat_version)\r\n    Default: 4\r\n    Choices: [1, 2, 3, 4]\r\n    The nbformat version to write. Use this to downgrade notebooks.\r\n\r\nTo see all available configurables, use `--help-all`\r\n\r\nExamples\r\n--------\r\n\r\n    The simplest way to use nbconvert is\r\n    \r\n    > jupyter nbconvert mynotebook.ipynb\r\n    \r\n    which will convert mynotebook.ipynb to the default format (probably HTML).\r\n    \r\n    You can specify the export format with `--to`.\r\n    Options include ['asciidoc', 'custom', 'html', 'latex', 'markdown', 'notebook', 'pdf', 'python', 'rst', 'script', 'slides']\r\n    \r\n    > jupyter nbconvert --to latex mynotebook.ipynb\r\n    \r\n    Both HTML and LaTeX support multiple output templates. LaTeX includes\r\n    'base', 'article' and 'report'.  HTML includes 'basic' and 'full'. You\r\n    can specify the flavor of the format used.\r\n    \r\n    > jupyter nbconvert --to html --template basic mynotebook.ipynb\r\n    \r\n    You can also pipe the output to stdout, rather than a file\r\n    \r\n    > jupyter nbconvert mynotebook.ipynb --stdout\r\n    \r\n    PDF is generated via latex\r\n    \r\n    > jupyter nbconvert mynotebook.ipynb --to pdf\r\n    \r\n    You can get (and serve) a Reveal.js-powered slideshow\r\n    \r\n    > jupyter nbconvert myslides.ipynb --to slides --post serve\r\n    \r\n    Multiple notebooks can be given at the command line in a couple of \r\n    different ways:\r\n    \r\n    > jupyter nbconvert notebook*.ipynb\r\n    > jupyter nbconvert notebook1.ipynb notebook2.ipynb\r\n    \r\n    or you can specify the notebooks list in a config file, containing::\r\n    \r\n        c.NbConvertApp.notebooks = [\"my_notebook.ipynb\"]\r\n    \r\n    > jupyter nbconvert --config mycfg.py\r\n\r\n"
     ]
    }
   ],
   "source": [
    "!jupyter nbconvert --to script bessel.ipynb"
   ]
  },
  {
   "cell_type": "code",
   "execution_count": null,
   "metadata": {},
   "outputs": [],
   "source": []
  }
 ],
 "metadata": {
  "kernelspec": {
   "display_name": "Python 2",
   "language": "python",
   "name": "python2"
  },
  "language_info": {
   "codemirror_mode": {
    "name": "ipython",
    "version": 2
   },
   "file_extension": ".py",
   "mimetype": "text/x-python",
   "name": "python",
   "nbconvert_exporter": "python",
   "pygments_lexer": "ipython2",
   "version": "2.7.6"
  }
 },
 "nbformat": 4,
 "nbformat_minor": 0
}
